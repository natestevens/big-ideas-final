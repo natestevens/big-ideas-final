{
 "cells": [
  {
   "cell_type": "code",
   "execution_count": 2,
   "metadata": {},
   "outputs": [],
   "source": [
    "import pandas as pd\n",
    "import numpy as np\n",
    "%matplotlib inline\n",
    "import matplotlib.pyplot as plt"
   ]
  },
  {
   "cell_type": "code",
   "execution_count": 3,
   "metadata": {},
   "outputs": [
    {
     "name": "stdout",
     "output_type": "stream",
     "text": [
      "  OBJECTID,perimeter,firezones_,firezones_id,dist_zone,olddist_zone,mapbook,pagerotate,firezones,pghdb_sde_Fire_Zones_area,Shape__Area,Shape__Length\n",
      "0  1,21064.6484375,8,6,3-9,3-9,3-9,90,,29172082,2...                                                                                                \n",
      "1  2,11970.94335938,36,65,2-9,2-9,2-9,,,8786086,7...                                                                                                \n",
      "2  3,32415.30859375,7,5,3-15,3-17,3-15,,15,395002...                                                                                                \n",
      "3  4,13293.01074219,15,12,1-14,1-14,1-14 ,90,14,6...                                                                                                \n",
      "4  5,16103.38671875,43,33,2-14,2-7,2-14,,14,10803...                                                                                                \n",
      "5  6,21683.0703125,48,37,4-1,4-1,4-1,,1,27563012,...                                                                                                \n",
      "6  7,38714.03515625,5,3,3-5,3-5,3-5,,5,32768250,2...                                                                                                \n",
      "7  9,22039.53515625,52,41,4-2,4-2,4-2,,2,8698928,...                                                                                                \n",
      "8  10,35271.57421875,20,15,1-20,1-5,1-20,,20,2166...                                                                                                \n",
      "9  11,21450.68359375,13,10,1-22,1-12,1-22,,22,162...                                                                                                \n"
     ]
    }
   ],
   "source": [
    "fire = pd.read_csv(\"Fire_Zones.csv\", sep='\\t')\n",
    "print(fire.head(10))\n"
   ]
  },
  {
   "cell_type": "code",
   "execution_count": 4,
   "metadata": {},
   "outputs": [
    {
     "name": "stdout",
     "output_type": "stream",
     "text": [
      "Number of columns: 1\n",
      "Column names: ['OBJECTID,perimeter,firezones_,firezones_id,dist_zone,olddist_zone,mapbook,pagerotate,firezones,pghdb_sde_Fire_Zones_area,Shape__Area,Shape__Length']\n",
      "Index(['OBJECTID,perimeter,firezones_,firezones_id,dist_zone,olddist_zone,mapbook,pagerotate,firezones,pghdb_sde_Fire_Zones_area,Shape__Area,Shape__Length'], dtype='object')\n"
     ]
    }
   ],
   "source": [
    "num_columns = fire.shape[1]\n",
    "print(\"Number of columns:\", num_columns)\n",
    "\n",
    "column_names = fire.columns.tolist()\n",
    "print(\"Column names:\", column_names)\n",
    "print(fire.columns)"
   ]
  },
  {
   "cell_type": "code",
   "execution_count": 5,
   "metadata": {},
   "outputs": [
    {
     "name": "stdout",
     "output_type": "stream",
     "text": [
      "   OBJECTID,perimeter,firezones_,firezones_id,dist_zone,olddist_zone,mapbook,pagerotate,firezones,pghdb_sde_Fire_Zones_area,Shape__Area,Shape__Length\n",
      "50  52,14297.24316406,49,38,2-4,2-1,2-4,,4,1014458...                                                                                                \n",
      "6   7,38714.03515625,5,3,3-5,3-5,3-5,,5,32768250,2...                                                                                                \n",
      "77  79,,,,3-21,,3-21,,21,,22661645.3689575,34396.1...                                                                                                \n",
      "53  55,,,,3-20,,3-20,,20,,26851364.1717529,27972.9...                                                                                                \n",
      "84  86,21453.40039063,27,22,1-8,1-8,1-8,90,8,23872...                                                                                                \n",
      "92  94,16103.38671875,43,33,2-7,2-7,2-7,,7,1080381...                                                                                                \n",
      "69  71,21110.11914063,55,44,4-27,4-4,4-27,90,27,15...                                                                                                \n",
      "19  21,34489.01953125,2,1,1-15,1-15,1-15,90,15,447...                                                                                                \n",
      "45  47,12234.00488281,21,16,3-12,3-12,3-12,90,12,5...                                                                                                \n",
      "43  45,49542.3515625,24,19,1-16,1-16,1-16,,16,7954...                                                                                                \n",
      "False\n"
     ]
    }
   ],
   "source": [
    "random_sample = fire.sample(n=10)\n",
    "print(random_sample)\n",
    "print('firezones_id' in fire.columns)"
   ]
  },
  {
   "cell_type": "code",
   "execution_count": 6,
   "metadata": {},
   "outputs": [
    {
     "name": "stdout",
     "output_type": "stream",
     "text": [
      "All column names: ['OBJECTID']\n"
     ]
    }
   ],
   "source": [
    "# 读取数据\n",
    "data = pd.read_csv('Fire_Zones.csv')\n",
    "\n",
    "# 提取列名\n",
    "column_names = data.columns[0].split(',')\n",
    "\n",
    "# 显示所有列名\n",
    "print(\"All column names:\", column_names)"
   ]
  },
  {
   "cell_type": "code",
   "execution_count": 7,
   "metadata": {},
   "outputs": [
    {
     "name": "stdout",
     "output_type": "stream",
     "text": [
      "   OBJECTID     perimeter  firezones_  firezones_id dist_zone olddist_zone  \\\n",
      "0         1  21064.648438         8.0           6.0       3-9          3-9   \n",
      "1         2  11970.943359        36.0          65.0       2-9          2-9   \n",
      "2         3  32415.308594         7.0           5.0      3-15         3-17   \n",
      "3         4  13293.010742        15.0          12.0      1-14         1-14   \n",
      "4         5  16103.386719        43.0          33.0      2-14          2-7   \n",
      "\n",
      "  mapbook  pagerotate firezones  pghdb_sde_Fire_Zones_area   Shape__Area  \\\n",
      "0     3-9        90.0       NaN                 29172082.0  2.828264e+07   \n",
      "1     2-9         NaN       NaN                  8786086.0  7.737250e+06   \n",
      "2    3-15         NaN        15                 39500204.0  1.730516e+07   \n",
      "3   1-14         90.0        14                  6426350.5  6.426447e+06   \n",
      "4    2-14         NaN        14                 10803816.0  7.003121e+06   \n",
      "\n",
      "   Shape__Length  \n",
      "0   21372.420760  \n",
      "1   12881.306393  \n",
      "2   40108.528390  \n",
      "3   13291.995500  \n",
      "4   11950.538608  \n",
      "Index(['OBJECTID', 'perimeter', 'firezones_', 'firezones_id', 'dist_zone',\n",
      "       'olddist_zone', 'mapbook', 'pagerotate', 'firezones',\n",
      "       'pghdb_sde_Fire_Zones_area', 'Shape__Area', 'Shape__Length'],\n",
      "      dtype='object')\n",
      "There are 69 area。\n"
     ]
    }
   ],
   "source": [
    "import pandas as pd\n",
    "\n",
    "data = pd.read_csv('Fire_Zones.csv')\n",
    "\n",
    "print(data.head())\n",
    "print(data.columns)\n",
    "total_zones = data['firezones_id'].nunique()\n",
    "\n",
    "print(\"There are {} area。\".format(total_zones))"
   ]
  },
  {
   "cell_type": "markdown",
   "metadata": {},
   "source": [
    "Hence we got the column names and total area numbers at here. Since from the previous code we got there are totally 69 areas, I set bins at 69 because I need accurate fire zone ID."
   ]
  },
  {
   "cell_type": "code",
   "execution_count": 8,
   "metadata": {},
   "outputs": [
    {
     "data": {
      "image/png": "[encoded data removed]",
      "text/plain": [
       "<Figure size 432x288 with 1 Axes>"
      ]
     },
     "metadata": {
      "needs_background": "light"
     },
     "output_type": "display_data"
    }
   ],
   "source": [
    "plt.hist(data['firezones_id'], bins=69, color='skyblue', edgecolor='black')\n",
    "plt.title('Histogram of Fire Zone IDs')\n",
    "plt.xlabel('Fire Zone IDs')\n",
    "plt.ylabel('Frequency')\n",
    "plt.show()"
   ]
  },
  {
   "cell_type": "markdown",
   "metadata": {},
   "source": [
    "my metric is base on a area, the lower the frequncy of firezone happens, the safer it would be. Base on the histogram above, the area that has 0 frequncy of fire zone should be 10, 43,45, 60."
   ]
  },
  {
   "cell_type": "markdown",
   "metadata": {},
   "source": [
    "Base on the map that dataset lab gave, the area 10 is Spring Hill-City Overview， 43 is on middle of north okland,  area 45 is between shadyside and squrril hill north, and the last area 60 is Greenfield."
   ]
  },
  {
   "cell_type": "markdown",
   "metadata": {},
   "source": [
    "After we find the area that has the lowest frequency of fire zone happen, we can firstly identify the area above is the safest place to live in. But we still need to consider other nature disaster situation."
   ]
  },
  {
   "cell_type": "code",
   "execution_count": null,
   "metadata": {},
   "outputs": [],
   "source": []
  }
 ],
 "metadata": {
  "kernelspec": {
   "display_name": "Python 3",
   "language": "python",
   "name": "python3"
  },
  "language_info": {
   "codemirror_mode": {
    "name": "ipython",
    "version": 3
   },
   "file_extension": ".py",
   "mimetype": "text/x-python",
   "name": "python",
   "nbconvert_exporter": "python",
   "pygments_lexer": "ipython3",
   "version": "3.8.3"
  }
 },
 "nbformat": 4,
 "nbformat_minor": 4
}
